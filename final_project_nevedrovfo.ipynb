{
 "cells": [
  {
   "cell_type": "markdown",
   "id": "78ea7f10-127c-4cc8-9354-14ead5450ee7",
   "metadata": {
    "jp-MarkdownHeadingCollapsed": true,
    "tags": []
   },
   "source": [
    "## Проект: Анализ результатов АБ тестирования новой механики оплаты (Вариант 2)\n",
    "\n",
    "#### 1. Общие положения\n",
    "Цель данного проекта — определить, стоит ли внедрять новую механику оплаты для всех пользователей на основе результатов A/B-тестирования.\n",
    "\n",
    "#### 2. Входные данные\n",
    "\n",
    "- **groups.csv**: Содержит информацию о принадлежности пользователя к контрольной (А) или экспериментальной (B) группе.\n",
    "  \n",
    "- **groups_add.csv**: Дополнительные данные о принадлежности пользователей к группам, полученные через 2 дня после начальной передачи данных.\n",
    "\n",
    "- **active_studs.csv**: Данные о пользователях, которые посещали платформу во время проведения эксперимента.\n",
    "\n",
    "- **checks.csv**: Данные об оплате услуг пользователями во время проведения эксперимента.\n",
    "\n",
    "#### 3. Задачи анализа\n",
    "\n",
    "1. **Метрики анализа**: Определить ключевые метрики, на которые следует обратить внимание при анализе результатов эксперимента.\n",
    "\n",
    "2. **Анализ различий**: Установить, существуют ли статистически значимые различия между контрольной и экспериментальной группами.\n",
    "\n",
    "3. **Выводы**: На основе проведенного анализа решить, стоит ли внедрять новую механику оплаты для всех пользователей.\n"
   ]
  },
  {
   "cell_type": "markdown",
   "id": "8292660b-c318-497a-b4eb-ff72ef49be89",
   "metadata": {},
   "source": [
    "# Начало анализа"
   ]
  },
  {
   "cell_type": "markdown",
   "id": "88ff82fb-7535-4e79-aa37-480726483f84",
   "metadata": {},
   "source": [
    "Импортирую нужные библиотеки"
   ]
  },
  {
   "cell_type": "code",
   "execution_count": 142,
   "id": "32261c55-d032-4c94-bb80-cedfe7352eaa",
   "metadata": {},
   "outputs": [],
   "source": [
    "import pandas as pd\n",
    "import matplotlib.pyplot as plt\n",
    "import seaborn as sns\n",
    "import numpy as np \n",
    "from scipy.stats import mannwhitneyu\n",
    "from scipy.stats import chi2_contingency\n",
    "from scipy.stats import kurtosis\n",
    "from scipy.stats import levene\n",
    "from scipy.stats import ttest_ind\n",
    "import numpy as np\n",
    "import warnings\n",
    "\n",
    "\n",
    "plt.style.use('ggplot')\n",
    "warnings.filterwarnings(\"ignore\")"
   ]
  },
  {
   "cell_type": "markdown",
   "id": "599a0461-4e4c-4211-9458-90fce21bc2b6",
   "metadata": {},
   "source": [
    "Проведу предварительный анализ таблиц необходимых для выполнения первого задания об оценке результатов эксперемента"
   ]
  },
  {
   "cell_type": "markdown",
   "id": "a1927ae0-ceb3-4f84-83ee-1972b708fe06",
   "metadata": {},
   "source": [
    "Загружу информацию о распределении пользователей между контрольной(А) и эксперементальной(В) группой"
   ]
  },
  {
   "cell_type": "code",
   "execution_count": 143,
   "id": "639d5745-9b94-4376-8f84-278ced5fea6d",
   "metadata": {},
   "outputs": [],
   "source": [
    "groups = pd.read_csv('/Users/filippnevedrov/KARPOV.ANALITICS/Final_Project/groups.csv', sep = ';')"
   ]
  },
  {
   "cell_type": "code",
   "execution_count": 144,
   "id": "7c098b77-d7df-4098-90f5-0ccbe69bedba",
   "metadata": {},
   "outputs": [
    {
     "data": {
      "text/plain": [
       "(74484, 2)"
      ]
     },
     "execution_count": 144,
     "metadata": {},
     "output_type": "execute_result"
    }
   ],
   "source": [
    "groups.shape"
   ]
  },
  {
   "cell_type": "code",
   "execution_count": 145,
   "id": "c92fc996-52ec-4800-a6fc-255d00b941d9",
   "metadata": {},
   "outputs": [
    {
     "data": {
      "text/html": [
       "<div>\n",
       "<style scoped>\n",
       "    .dataframe tbody tr th:only-of-type {\n",
       "        vertical-align: middle;\n",
       "    }\n",
       "\n",
       "    .dataframe tbody tr th {\n",
       "        vertical-align: top;\n",
       "    }\n",
       "\n",
       "    .dataframe thead th {\n",
       "        text-align: right;\n",
       "    }\n",
       "</style>\n",
       "<table border=\"1\" class=\"dataframe\">\n",
       "  <thead>\n",
       "    <tr style=\"text-align: right;\">\n",
       "      <th></th>\n",
       "      <th>id</th>\n",
       "      <th>grp</th>\n",
       "    </tr>\n",
       "  </thead>\n",
       "  <tbody>\n",
       "    <tr>\n",
       "      <th>0</th>\n",
       "      <td>1489</td>\n",
       "      <td>B</td>\n",
       "    </tr>\n",
       "    <tr>\n",
       "      <th>1</th>\n",
       "      <td>1627</td>\n",
       "      <td>A</td>\n",
       "    </tr>\n",
       "    <tr>\n",
       "      <th>2</th>\n",
       "      <td>1768</td>\n",
       "      <td>B</td>\n",
       "    </tr>\n",
       "    <tr>\n",
       "      <th>3</th>\n",
       "      <td>1783</td>\n",
       "      <td>B</td>\n",
       "    </tr>\n",
       "    <tr>\n",
       "      <th>4</th>\n",
       "      <td>1794</td>\n",
       "      <td>A</td>\n",
       "    </tr>\n",
       "  </tbody>\n",
       "</table>\n",
       "</div>"
      ],
      "text/plain": [
       "     id grp\n",
       "0  1489   B\n",
       "1  1627   A\n",
       "2  1768   B\n",
       "3  1783   B\n",
       "4  1794   A"
      ]
     },
     "execution_count": 145,
     "metadata": {},
     "output_type": "execute_result"
    }
   ],
   "source": [
    "groups.head()"
   ]
  },
  {
   "cell_type": "code",
   "execution_count": 146,
   "id": "f842e3fa-250b-4ffd-8b2c-107c34985186",
   "metadata": {},
   "outputs": [
    {
     "data": {
      "text/plain": [
       "id     0\n",
       "grp    0\n",
       "dtype: int64"
      ]
     },
     "execution_count": 146,
     "metadata": {},
     "output_type": "execute_result"
    }
   ],
   "source": [
    "groups.isna().sum()"
   ]
  },
  {
   "cell_type": "code",
   "execution_count": 147,
   "id": "b218856e-2cf7-452d-b0f5-aa7d5a37ebe2",
   "metadata": {},
   "outputs": [
    {
     "data": {
      "text/plain": [
       "B    59813\n",
       "A    14671\n",
       "Name: grp, dtype: int64"
      ]
     },
     "execution_count": 147,
     "metadata": {},
     "output_type": "execute_result"
    }
   ],
   "source": [
    "groups.grp.value_counts()"
   ]
  },
  {
   "cell_type": "markdown",
   "id": "431d195b-f26c-44eb-9f61-ab629390554e",
   "metadata": {},
   "source": [
    "Эксперементальная группа в 4 раза больше по объему чем контрольная."
   ]
  },
  {
   "cell_type": "markdown",
   "id": "aa7588b7-fd22-446f-be89-2a5e89810d3a",
   "metadata": {},
   "source": [
    "Загружу данные о студентах, активных во время проведения эксперемента"
   ]
  },
  {
   "cell_type": "code",
   "execution_count": 148,
   "id": "92c24dd9-81dd-44d5-a5f0-ae505899e667",
   "metadata": {},
   "outputs": [],
   "source": [
    "active_students = pd.read_csv('/Users/filippnevedrov/KARPOV.ANALITICS/Final_Project/active_studs.csv')"
   ]
  },
  {
   "cell_type": "code",
   "execution_count": 149,
   "id": "a781e689-7a02-487c-934f-48670c56faba",
   "metadata": {},
   "outputs": [
    {
     "data": {
      "text/html": [
       "<div>\n",
       "<style scoped>\n",
       "    .dataframe tbody tr th:only-of-type {\n",
       "        vertical-align: middle;\n",
       "    }\n",
       "\n",
       "    .dataframe tbody tr th {\n",
       "        vertical-align: top;\n",
       "    }\n",
       "\n",
       "    .dataframe thead th {\n",
       "        text-align: right;\n",
       "    }\n",
       "</style>\n",
       "<table border=\"1\" class=\"dataframe\">\n",
       "  <thead>\n",
       "    <tr style=\"text-align: right;\">\n",
       "      <th></th>\n",
       "      <th>student_id</th>\n",
       "    </tr>\n",
       "  </thead>\n",
       "  <tbody>\n",
       "    <tr>\n",
       "      <th>0</th>\n",
       "      <td>581585</td>\n",
       "    </tr>\n",
       "    <tr>\n",
       "      <th>1</th>\n",
       "      <td>5723133</td>\n",
       "    </tr>\n",
       "    <tr>\n",
       "      <th>2</th>\n",
       "      <td>3276743</td>\n",
       "    </tr>\n",
       "    <tr>\n",
       "      <th>3</th>\n",
       "      <td>4238589</td>\n",
       "    </tr>\n",
       "    <tr>\n",
       "      <th>4</th>\n",
       "      <td>4475369</td>\n",
       "    </tr>\n",
       "  </tbody>\n",
       "</table>\n",
       "</div>"
      ],
      "text/plain": [
       "   student_id\n",
       "0      581585\n",
       "1     5723133\n",
       "2     3276743\n",
       "3     4238589\n",
       "4     4475369"
      ]
     },
     "execution_count": 149,
     "metadata": {},
     "output_type": "execute_result"
    }
   ],
   "source": [
    "active_students.head()"
   ]
  },
  {
   "cell_type": "code",
   "execution_count": 150,
   "id": "de3e75fc-cca0-4f1d-8d95-4cf05e954179",
   "metadata": {},
   "outputs": [
    {
     "data": {
      "text/plain": [
       "student_id    0\n",
       "dtype: int64"
      ]
     },
     "execution_count": 150,
     "metadata": {},
     "output_type": "execute_result"
    }
   ],
   "source": [
    "active_students.isna().sum()"
   ]
  },
  {
   "cell_type": "code",
   "execution_count": 151,
   "id": "0b0bd1e8-8133-4320-9166-cb69a963fec5",
   "metadata": {},
   "outputs": [
    {
     "data": {
      "text/plain": [
       "(8341, 1)"
      ]
     },
     "execution_count": 151,
     "metadata": {},
     "output_type": "execute_result"
    }
   ],
   "source": [
    "active_students.shape"
   ]
  },
  {
   "cell_type": "markdown",
   "id": "71a6f29d-16c7-483b-b77b-ffeb20a68264",
   "metadata": {},
   "source": [
    "Загружу информацию об оплатах во время проведения эксперемента"
   ]
  },
  {
   "cell_type": "code",
   "execution_count": 152,
   "id": "516c796b-f402-4eeb-aa29-14da224b603f",
   "metadata": {},
   "outputs": [],
   "source": [
    "checks = pd.read_csv('/Users/filippnevedrov/KARPOV.ANALITICS/Final_Project/checks.csv', sep = ';')"
   ]
  },
  {
   "cell_type": "code",
   "execution_count": 153,
   "id": "2cbdb88f-1d6f-4838-9959-44e510df5790",
   "metadata": {},
   "outputs": [
    {
     "data": {
      "text/plain": [
       "(541, 2)"
      ]
     },
     "execution_count": 153,
     "metadata": {},
     "output_type": "execute_result"
    }
   ],
   "source": [
    "checks.shape"
   ]
  },
  {
   "cell_type": "code",
   "execution_count": 154,
   "id": "edfc909e-ccab-4610-ad9f-ab11e42a7d72",
   "metadata": {},
   "outputs": [
    {
     "data": {
      "text/html": [
       "<div>\n",
       "<style scoped>\n",
       "    .dataframe tbody tr th:only-of-type {\n",
       "        vertical-align: middle;\n",
       "    }\n",
       "\n",
       "    .dataframe tbody tr th {\n",
       "        vertical-align: top;\n",
       "    }\n",
       "\n",
       "    .dataframe thead th {\n",
       "        text-align: right;\n",
       "    }\n",
       "</style>\n",
       "<table border=\"1\" class=\"dataframe\">\n",
       "  <thead>\n",
       "    <tr style=\"text-align: right;\">\n",
       "      <th></th>\n",
       "      <th>student_id</th>\n",
       "      <th>rev</th>\n",
       "    </tr>\n",
       "  </thead>\n",
       "  <tbody>\n",
       "    <tr>\n",
       "      <th>0</th>\n",
       "      <td>1627</td>\n",
       "      <td>990.0</td>\n",
       "    </tr>\n",
       "    <tr>\n",
       "      <th>1</th>\n",
       "      <td>3185</td>\n",
       "      <td>690.0</td>\n",
       "    </tr>\n",
       "    <tr>\n",
       "      <th>2</th>\n",
       "      <td>25973</td>\n",
       "      <td>690.0</td>\n",
       "    </tr>\n",
       "    <tr>\n",
       "      <th>3</th>\n",
       "      <td>26280</td>\n",
       "      <td>690.0</td>\n",
       "    </tr>\n",
       "    <tr>\n",
       "      <th>4</th>\n",
       "      <td>100300</td>\n",
       "      <td>990.0</td>\n",
       "    </tr>\n",
       "  </tbody>\n",
       "</table>\n",
       "</div>"
      ],
      "text/plain": [
       "   student_id    rev\n",
       "0        1627  990.0\n",
       "1        3185  690.0\n",
       "2       25973  690.0\n",
       "3       26280  690.0\n",
       "4      100300  990.0"
      ]
     },
     "execution_count": 154,
     "metadata": {},
     "output_type": "execute_result"
    }
   ],
   "source": [
    "checks.head()"
   ]
  },
  {
   "cell_type": "code",
   "execution_count": 155,
   "id": "03dbcfb6-5e82-46ec-9935-80f65fbbe474",
   "metadata": {},
   "outputs": [
    {
     "data": {
      "text/plain": [
       "student_id    0\n",
       "rev           0\n",
       "dtype: int64"
      ]
     },
     "execution_count": 155,
     "metadata": {},
     "output_type": "execute_result"
    }
   ],
   "source": [
    "checks.isna().sum()"
   ]
  },
  {
   "cell_type": "markdown",
   "id": "c51bcd64-0ec0-4e11-9fb4-41cfe5da3fb7",
   "metadata": {},
   "source": [
    "Ни в каких таблицах нет пропусков, что хорошо. "
   ]
  },
  {
   "cell_type": "markdown",
   "id": "a970ad01-bef2-4b4c-92ef-7269ee0c737f",
   "metadata": {},
   "source": [
    "**Для оценки результатов эксперемента считаю нужным сравнить следующие метрики -**\n",
    "- Конверсия в оплату: Сравнитьпроцент пользователей, совершивших оплату, в контрольной и экспериментальной группах. (CR в покупку)\n",
    "- Средний чек среди платящих клиентов (ARPPU)\n",
    "- Средний чек оплаты между двумя группами. (ARPU)\n"
   ]
  },
  {
   "cell_type": "markdown",
   "id": "6cd9f8b1-a8fc-4ef6-a67a-fd61d82b1612",
   "metadata": {},
   "source": [
    "Для подсчета конверсии в покупку необходимо сравнивать количество оплативших пользователей с общим количеством пользователей активных во время эксперимента (по каждой группе), учитывать пользователей не заходивших на плтаформу в данный период нецелесообразно, поэтому отберу только нужных нам пользователей"
   ]
  },
  {
   "cell_type": "markdown",
   "id": "e891da0c-3e5d-4df4-8a38-faacaf73e533",
   "metadata": {},
   "source": [
    "Посмотрю были ли пользователи совершившие оплату в момент эксперимента, но каким то образом не заходившие в этот момент на платформу:\n"
   ]
  },
  {
   "cell_type": "code",
   "execution_count": 156,
   "id": "2c07bb06-2419-44a0-8c28-92383b690be8",
   "metadata": {},
   "outputs": [],
   "source": [
    "not_active_payed = checks[~checks['student_id'].isin(active_students['student_id'])]"
   ]
  },
  {
   "cell_type": "code",
   "execution_count": 157,
   "id": "0ff09f8c-6e80-4803-8076-05e97fb4a826",
   "metadata": {},
   "outputs": [
    {
     "data": {
      "text/html": [
       "<div>\n",
       "<style scoped>\n",
       "    .dataframe tbody tr th:only-of-type {\n",
       "        vertical-align: middle;\n",
       "    }\n",
       "\n",
       "    .dataframe tbody tr th {\n",
       "        vertical-align: top;\n",
       "    }\n",
       "\n",
       "    .dataframe thead th {\n",
       "        text-align: right;\n",
       "    }\n",
       "</style>\n",
       "<table border=\"1\" class=\"dataframe\">\n",
       "  <thead>\n",
       "    <tr style=\"text-align: right;\">\n",
       "      <th></th>\n",
       "      <th>student_id</th>\n",
       "      <th>rev</th>\n",
       "    </tr>\n",
       "  </thead>\n",
       "  <tbody>\n",
       "    <tr>\n",
       "      <th>1</th>\n",
       "      <td>3185</td>\n",
       "      <td>690.0</td>\n",
       "    </tr>\n",
       "    <tr>\n",
       "      <th>2</th>\n",
       "      <td>25973</td>\n",
       "      <td>690.0</td>\n",
       "    </tr>\n",
       "    <tr>\n",
       "      <th>3</th>\n",
       "      <td>26280</td>\n",
       "      <td>690.0</td>\n",
       "    </tr>\n",
       "    <tr>\n",
       "      <th>5</th>\n",
       "      <td>100645</td>\n",
       "      <td>630.0</td>\n",
       "    </tr>\n",
       "    <tr>\n",
       "      <th>6</th>\n",
       "      <td>102534</td>\n",
       "      <td>580.0</td>\n",
       "    </tr>\n",
       "  </tbody>\n",
       "</table>\n",
       "</div>"
      ],
      "text/plain": [
       "   student_id    rev\n",
       "1        3185  690.0\n",
       "2       25973  690.0\n",
       "3       26280  690.0\n",
       "5      100645  630.0\n",
       "6      102534  580.0"
      ]
     },
     "execution_count": 157,
     "metadata": {},
     "output_type": "execute_result"
    }
   ],
   "source": [
    "not_active_payed.head()"
   ]
  },
  {
   "cell_type": "code",
   "execution_count": 158,
   "id": "7e14c458-48d6-4991-8b33-6e3ad801bac0",
   "metadata": {},
   "outputs": [
    {
     "data": {
      "text/plain": [
       "(149, 2)"
      ]
     },
     "execution_count": 158,
     "metadata": {},
     "output_type": "execute_result"
    }
   ],
   "source": [
    "not_active_payed.shape"
   ]
  },
  {
   "cell_type": "markdown",
   "id": "4502ead2-df39-4f9c-b740-f2812bf56cda",
   "metadata": {},
   "source": [
    "Число клентов оплативших, но не пользовавшихся платформой в момет эксперемента соствляет значительную часть от всех оплативших клиентов, возможно они могли узнать о новой механнике и воспользоавться ей не заходя на плтаформу. Посмотрим к какой группе относяться эти клиенты  "
   ]
  },
  {
   "cell_type": "code",
   "execution_count": 159,
   "id": "eacf9c01-e81a-41ec-b28b-d80c2aaf1192",
   "metadata": {},
   "outputs": [
    {
     "data": {
      "text/plain": [
       "B    120\n",
       "A     29\n",
       "Name: grp, dtype: int64"
      ]
     },
     "execution_count": 159,
     "metadata": {},
     "output_type": "execute_result"
    }
   ],
   "source": [
    "not_active_payed = not_active_payed.merge(groups, left_on = 'student_id', right_on = 'id')\n",
    "\n",
    "not_active_payed.grp.value_counts()"
   ]
  },
  {
   "cell_type": "markdown",
   "id": "a8110650-7c71-4c24-90ae-b10bbf7fdbc7",
   "metadata": {},
   "source": [
    "Значительное число клиентов из эксперементальной группы произвело оплату не пользуюясь при этом платформой, предполагаю что они могли узнать о новой механнике совершения оплаты с помощью рассылки или каким то другим способом (возможно пользователи могут заходить на сайт,не пользуясь при этом самой платформой) и воспользовались эй, так же возможно это ошибка сбора данных. Считаю неверным учитывать их на равне с активными участниками, группу неактивных пользователей так же можно проанализировать отдельно, но желательно сначала получить дополнительную информацию."
   ]
  },
  {
   "cell_type": "markdown",
   "id": "c055559a-a74b-4107-8b02-08e2d48561b5",
   "metadata": {},
   "source": [
    "Посмотрим так же на отношение активных студентов из контрольной и эксперементальной групп. "
   ]
  },
  {
   "cell_type": "code",
   "execution_count": 160,
   "id": "9a6cdf83-9375-4c53-bd47-93ea06fe68a6",
   "metadata": {},
   "outputs": [
    {
     "data": {
      "text/plain": [
       "student_id     0\n",
       "id            13\n",
       "grp           13\n",
       "dtype: int64"
      ]
     },
     "execution_count": 160,
     "metadata": {},
     "output_type": "execute_result"
    }
   ],
   "source": [
    "active_students = active_students.merge(groups, left_on = 'student_id', right_on = 'id', how = 'left')\n",
    "\n",
    "active_students.isna().sum()"
   ]
  },
  {
   "cell_type": "markdown",
   "id": "4c82923b-fabc-442e-b1eb-19c3b07e3d66",
   "metadata": {},
   "source": [
    "Нашли 3 студентов без указания группы, их не так много, поэтому дропнем"
   ]
  },
  {
   "cell_type": "code",
   "execution_count": 161,
   "id": "7cdc03e1-f96b-4373-a18d-5157ac0fb95d",
   "metadata": {},
   "outputs": [
    {
     "data": {
      "text/plain": [
       "student_id    0\n",
       "id            0\n",
       "grp           0\n",
       "dtype: int64"
      ]
     },
     "execution_count": 161,
     "metadata": {},
     "output_type": "execute_result"
    }
   ],
   "source": [
    "active_students.dropna(inplace = True)\n",
    "\n",
    "active_students.isna().sum()"
   ]
  },
  {
   "cell_type": "code",
   "execution_count": 162,
   "id": "0a1c024f-d791-4349-bb91-8aa96a91c6cb",
   "metadata": {},
   "outputs": [
    {
     "data": {
      "text/plain": [
       "B    6793\n",
       "A    1535\n",
       "Name: grp, dtype: int64"
      ]
     },
     "execution_count": 162,
     "metadata": {},
     "output_type": "execute_result"
    }
   ],
   "source": [
    "active_students.grp.value_counts()"
   ]
  },
  {
   "cell_type": "markdown",
   "id": "db4b4e75-98b5-4bd3-9185-c8119e339b47",
   "metadata": {},
   "source": [
    "Нужно решить что делать с неактивными, но оплатившими студентами. Если новая механника оплаты подразумевает что пользователи были оповещены о ее подключении каким то образом, считаю некоррктым добавлять этих студентов и сравнивать на равне с активными. Рассылку могли получить все студенты эксперементальной группы, которых в 4 раза больше чем студентов контрольной группы. А отреагировать на нее только заинтересованные в нашем продукте пользователи. В тоже время пользователи контрольной группы не получали никакого напоминания о продукте. Самым логичным решением для анализа этой группы без учета дополнительной информации вижу сравнивать отдельно активных пользователей (пользователей априори интересующихся нашим продуктом) и неактивных пользователей, для этого взять равные рандомные выборки из неактивных польователей и посмотреть на интересующие нас метрики, так же нужно удостовериться что пользователи в выборке приблизительно похожи по дате регистрации(предположу что id релевантно дате регистрации)"
   ]
  },
  {
   "cell_type": "markdown",
   "id": "cd66c121-43b2-450c-9595-c8969859116a",
   "metadata": {
    "tags": []
   },
   "source": [
    "## Структурирую действия для корректного анализа результатов эксперимента:\n",
    "\n",
    "**Сегментая пользователей:**\n",
    "\n",
    "Активные пользователи: те, кто заходил на платформу во время эксперимента.\n",
    "\n",
    "Неактивные пользователи: те, кто не заходил на платформу во время эксперимента, но совершил оплату.\n",
    "\n",
    "**Анализ активных пользователей:**\n",
    "Сравню ключевые метрики между контрольной и экспериментальной группами среди активных пользователей.\n",
    "Примению статистические методы для определения значимости различий.\n",
    "\n",
    "**Анализ неактивных пользователей (опционально) :**\n",
    "Для сравнения контрольной и экспериментальной групп среди неактивных пользователей создам равные рандомные выборки.\n",
    "Проверю дополнительные условия, например, равенство распределения ID пользователей.\n",
    "Аналогично активным, сравню ключевые метрики и определю статистическую значимость различий."
   ]
  },
  {
   "cell_type": "markdown",
   "id": "ca4d68cc-97dc-4826-990c-afb5f8e68542",
   "metadata": {},
   "source": [
    "# Анализ активных пользователей"
   ]
  },
  {
   "cell_type": "markdown",
   "id": "4c85d8bd-1f81-4f9c-b115-6e4bf0e5b851",
   "metadata": {},
   "source": [
    "### Оценка CR в покупку："
   ]
  },
  {
   "cell_type": "markdown",
   "id": "b143ce91-7eb2-4f2a-b3ba-a23d2a1b1b74",
   "metadata": {},
   "source": [
    "Добравлю информацию об оплатах для активных пользователей"
   ]
  },
  {
   "cell_type": "code",
   "execution_count": 163,
   "id": "b91b63d6-e805-4d2f-a361-557ffc4d94f0",
   "metadata": {},
   "outputs": [
    {
     "data": {
      "text/html": [
       "<div>\n",
       "<style scoped>\n",
       "    .dataframe tbody tr th:only-of-type {\n",
       "        vertical-align: middle;\n",
       "    }\n",
       "\n",
       "    .dataframe tbody tr th {\n",
       "        vertical-align: top;\n",
       "    }\n",
       "\n",
       "    .dataframe thead th {\n",
       "        text-align: right;\n",
       "    }\n",
       "</style>\n",
       "<table border=\"1\" class=\"dataframe\">\n",
       "  <thead>\n",
       "    <tr style=\"text-align: right;\">\n",
       "      <th></th>\n",
       "      <th>student_id</th>\n",
       "      <th>grp</th>\n",
       "      <th>rev</th>\n",
       "      <th>paid</th>\n",
       "    </tr>\n",
       "  </thead>\n",
       "  <tbody>\n",
       "    <tr>\n",
       "      <th>0</th>\n",
       "      <td>581585</td>\n",
       "      <td>A</td>\n",
       "      <td>0.0</td>\n",
       "      <td>0</td>\n",
       "    </tr>\n",
       "    <tr>\n",
       "      <th>1</th>\n",
       "      <td>3276743</td>\n",
       "      <td>B</td>\n",
       "      <td>0.0</td>\n",
       "      <td>0</td>\n",
       "    </tr>\n",
       "    <tr>\n",
       "      <th>2</th>\n",
       "      <td>4238589</td>\n",
       "      <td>A</td>\n",
       "      <td>0.0</td>\n",
       "      <td>0</td>\n",
       "    </tr>\n",
       "    <tr>\n",
       "      <th>3</th>\n",
       "      <td>4475369</td>\n",
       "      <td>B</td>\n",
       "      <td>0.0</td>\n",
       "      <td>0</td>\n",
       "    </tr>\n",
       "    <tr>\n",
       "      <th>4</th>\n",
       "      <td>5481015</td>\n",
       "      <td>B</td>\n",
       "      <td>0.0</td>\n",
       "      <td>0</td>\n",
       "    </tr>\n",
       "  </tbody>\n",
       "</table>\n",
       "</div>"
      ],
      "text/plain": [
       "   student_id grp  rev  paid\n",
       "0      581585   A  0.0     0\n",
       "1     3276743   B  0.0     0\n",
       "2     4238589   A  0.0     0\n",
       "3     4475369   B  0.0     0\n",
       "4     5481015   B  0.0     0"
      ]
     },
     "execution_count": 163,
     "metadata": {},
     "output_type": "execute_result"
    }
   ],
   "source": [
    "active_students_checks = active_students.merge(checks, on = 'student_id', how = 'left')\n",
    "\n",
    "#create a column indecated if the student paid or nor \n",
    "active_students_checks['paid'] = ~active_students_checks['rev'].isna() \n",
    "\n",
    "#fill 0 pays with 0\n",
    "active_students_checks = active_students_checks.fillna(0)\n",
    "\n",
    "active_students_checks['paid'] = active_students_checks['paid'].astype(int)\n",
    "\n",
    "active_students_checks = active_students_checks.drop('id', axis = 1)\n",
    "\n",
    "active_students_checks.head()"
   ]
  },
  {
   "cell_type": "code",
   "execution_count": 164,
   "id": "71debf2f-b8e8-4e79-8de8-35256ab80a0a",
   "metadata": {},
   "outputs": [
    {
     "data": {
      "text/html": [
       "<div>\n",
       "<style scoped>\n",
       "    .dataframe tbody tr th:only-of-type {\n",
       "        vertical-align: middle;\n",
       "    }\n",
       "\n",
       "    .dataframe tbody tr th {\n",
       "        vertical-align: top;\n",
       "    }\n",
       "\n",
       "    .dataframe thead th {\n",
       "        text-align: right;\n",
       "    }\n",
       "</style>\n",
       "<table border=\"1\" class=\"dataframe\">\n",
       "  <thead>\n",
       "    <tr style=\"text-align: right;\">\n",
       "      <th>grp</th>\n",
       "      <th>A</th>\n",
       "      <th>B</th>\n",
       "    </tr>\n",
       "    <tr>\n",
       "      <th>paid</th>\n",
       "      <th></th>\n",
       "      <th></th>\n",
       "    </tr>\n",
       "  </thead>\n",
       "  <tbody>\n",
       "    <tr>\n",
       "      <th>0</th>\n",
       "      <td>1457</td>\n",
       "      <td>6480</td>\n",
       "    </tr>\n",
       "    <tr>\n",
       "      <th>1</th>\n",
       "      <td>78</td>\n",
       "      <td>313</td>\n",
       "    </tr>\n",
       "  </tbody>\n",
       "</table>\n",
       "</div>"
      ],
      "text/plain": [
       "grp      A     B\n",
       "paid            \n",
       "0     1457  6480\n",
       "1       78   313"
      ]
     },
     "execution_count": 164,
     "metadata": {},
     "output_type": "execute_result"
    }
   ],
   "source": [
    "pd.crosstab(active_students_checks.paid,active_students_checks.grp)"
   ]
  },
  {
   "cell_type": "code",
   "execution_count": 165,
   "id": "67feed07-1046-47e9-96d0-709a3454931d",
   "metadata": {},
   "outputs": [
    {
     "data": {
      "text/plain": [
       "<Axes: xlabel='grp', ylabel='count'>"
      ]
     },
     "execution_count": 165,
     "metadata": {},
     "output_type": "execute_result"
    },
    {
     "data": {
      "image/png": "[encoded data removed]",
      "text/plain": [
       "<Figure size 640x480 with 1 Axes>"
      ]
     },
     "metadata": {},
     "output_type": "display_data"
    }
   ],
   "source": [
    "sns.countplot(x = 'grp', data = active_students_checks, hue = 'paid')"
   ]
  },
  {
   "cell_type": "markdown",
   "id": "e313d554-bf29-4876-8c06-11de50b27a57",
   "metadata": {},
   "source": [
    "Разделю датасэт на группы для удобства работы"
   ]
  },
  {
   "cell_type": "code",
   "execution_count": 166,
   "id": "9381c8a0-02a7-4664-85f1-6d716b529782",
   "metadata": {},
   "outputs": [],
   "source": [
    "#split groups\n",
    "\n",
    "group_A = active_students_checks[active_students_checks['grp'] == 'A']\n",
    "\n",
    "group_B = active_students_checks[active_students_checks['grp'] == 'B']\n"
   ]
  },
  {
   "cell_type": "markdown",
   "id": "d0940bfc-be56-4460-9bda-a349d30e13d2",
   "metadata": {},
   "source": [
    "Посмотрю на CR в оплату\n"
   ]
  },
  {
   "cell_type": "code",
   "execution_count": 167,
   "id": "3775140b-2663-48d5-bb8f-b32efda28a67",
   "metadata": {},
   "outputs": [
    {
     "data": {
      "text/plain": [
       "0    94.92\n",
       "1     5.08\n",
       "Name: paid, dtype: float64"
      ]
     },
     "execution_count": 167,
     "metadata": {},
     "output_type": "execute_result"
    }
   ],
   "source": [
    "round(group_A.paid.value_counts(normalize = True)*100,2)"
   ]
  },
  {
   "cell_type": "code",
   "execution_count": 168,
   "id": "29bf2798-0284-476a-a7bb-1ef69f0f14d1",
   "metadata": {},
   "outputs": [
    {
     "data": {
      "text/plain": [
       "0    95.39\n",
       "1     4.61\n",
       "Name: paid, dtype: float64"
      ]
     },
     "execution_count": 168,
     "metadata": {},
     "output_type": "execute_result"
    }
   ],
   "source": [
    "round(group_B.paid.value_counts(normalize = True)*100, 2)"
   ]
  },
  {
   "cell_type": "markdown",
   "id": "a4376c18-246f-4b80-8169-db6e8e9e902b",
   "metadata": {},
   "source": [
    "### Kонверсия в оплату (CR):\n",
    "Группа A: примерно 5.08%     \n",
    "Группа B: примерно 4.61%"
   ]
  },
  {
   "cell_type": "code",
   "execution_count": 169,
   "id": "392d6445-d9dd-4571-8182-a707cc8e59b3",
   "metadata": {},
   "outputs": [
    {
     "data": {
      "text/html": [
       "<div>\n",
       "<style scoped>\n",
       "    .dataframe tbody tr th:only-of-type {\n",
       "        vertical-align: middle;\n",
       "    }\n",
       "\n",
       "    .dataframe tbody tr th {\n",
       "        vertical-align: top;\n",
       "    }\n",
       "\n",
       "    .dataframe thead th {\n",
       "        text-align: right;\n",
       "    }\n",
       "</style>\n",
       "<table border=\"1\" class=\"dataframe\">\n",
       "  <thead>\n",
       "    <tr style=\"text-align: right;\">\n",
       "      <th>grp</th>\n",
       "      <th>A</th>\n",
       "      <th>B</th>\n",
       "    </tr>\n",
       "    <tr>\n",
       "      <th>paid</th>\n",
       "      <th></th>\n",
       "      <th></th>\n",
       "    </tr>\n",
       "  </thead>\n",
       "  <tbody>\n",
       "    <tr>\n",
       "      <th>0</th>\n",
       "      <td>1457</td>\n",
       "      <td>6480</td>\n",
       "    </tr>\n",
       "    <tr>\n",
       "      <th>1</th>\n",
       "      <td>78</td>\n",
       "      <td>313</td>\n",
       "    </tr>\n",
       "  </tbody>\n",
       "</table>\n",
       "</div>"
      ],
      "text/plain": [
       "grp      A     B\n",
       "paid            \n",
       "0     1457  6480\n",
       "1       78   313"
      ]
     },
     "execution_count": 169,
     "metadata": {},
     "output_type": "execute_result"
    }
   ],
   "source": [
    "df_crosstab = pd.crosstab(active_students_checks.paid,active_students_checks.grp)\n",
    "\n",
    "df_crosstab"
   ]
  },
  {
   "cell_type": "code",
   "execution_count": 170,
   "id": "7fe3b860-9c2d-40b2-bc44-c7898c3bce8c",
   "metadata": {},
   "outputs": [
    {
     "data": {
      "text/plain": [
       "<Axes: xlabel='grp', ylabel='count'>"
      ]
     },
     "execution_count": 170,
     "metadata": {},
     "output_type": "execute_result"
    },
    {
     "data": {
      "image/png": "[encoded data removed]",
      "text/plain": [
       "<Figure size 640x480 with 1 Axes>"
      ]
     },
     "metadata": {},
     "output_type": "display_data"
    }
   ],
   "source": [
    "sns.countplot(x = 'grp', data = active_students_checks, hue = 'paid')"
   ]
  },
  {
   "cell_type": "markdown",
   "id": "9c42bf10-57ce-4bfa-8fc3-9429ca9d6992",
   "metadata": {},
   "source": [
    "Так как мы работаем с категориальными данными, и нам необходимо сравнить пропорции(конверсия в покупку), буду использовать критерий чи-квадрат. \n",
    "\n",
    " - **0-я гипотеза** -  различия в конверсиях случайны\n",
    " - **Альтернативная гипотеза** - различия в конверсиях стат значимы "
   ]
  },
  {
   "cell_type": "code",
   "execution_count": 171,
   "id": "65e25ca0-990a-45fd-bdde-a1331e1cb707",
   "metadata": {},
   "outputs": [
    {
     "data": {
      "text/plain": [
       "0.526607176998989"
      ]
     },
     "execution_count": 171,
     "metadata": {},
     "output_type": "execute_result"
    }
   ],
   "source": [
    "res = chi2_contingency(df_crosstab)\n",
    "\n",
    "res.statistic"
   ]
  },
  {
   "cell_type": "code",
   "execution_count": 172,
   "id": "f65c9bed-8548-4558-a5d9-11515c25470a",
   "metadata": {},
   "outputs": [
    {
     "data": {
      "text/plain": [
       "0.46803677583199144"
      ]
     },
     "execution_count": 172,
     "metadata": {},
     "output_type": "execute_result"
    }
   ],
   "source": [
    "res.pvalue"
   ]
  },
  {
   "cell_type": "markdown",
   "id": "3c36d811-a8c9-4844-990f-519bdc5242b5",
   "metadata": {},
   "source": [
    "## Для сравниния конверсии в оплату был применет статистический критерий чи-квадрат\n",
    "\n",
    "\n",
    "- 0-я гипотеза - разница между показателями случайна и не зависит от группы\n",
    "- Альтернативная гипотеза - разница между показателями зависит от группы\n",
    "\n",
    "**п-значение ~ 0.47, что значительно выше уровня значимости -  это не дает нам оснований отклонить нулевую гипотезу, между группами нет стат. значимой разниы в конверсию в покупку**\n"
   ]
  },
  {
   "cell_type": "markdown",
   "id": "b0f71857-c36b-421f-ac1f-4dd9c120a4e3",
   "metadata": {},
   "source": [
    "## Сравнение ARPPU "
   ]
  },
  {
   "cell_type": "code",
   "execution_count": 173,
   "id": "10dd2c3c-ca53-4410-8dae-71b24c7d2b96",
   "metadata": {},
   "outputs": [
    {
     "data": {
      "text/html": [
       "<div>\n",
       "<style scoped>\n",
       "    .dataframe tbody tr th:only-of-type {\n",
       "        vertical-align: middle;\n",
       "    }\n",
       "\n",
       "    .dataframe tbody tr th {\n",
       "        vertical-align: top;\n",
       "    }\n",
       "\n",
       "    .dataframe thead th {\n",
       "        text-align: right;\n",
       "    }\n",
       "</style>\n",
       "<table border=\"1\" class=\"dataframe\">\n",
       "  <thead>\n",
       "    <tr style=\"text-align: right;\">\n",
       "      <th></th>\n",
       "      <th>student_id</th>\n",
       "      <th>grp</th>\n",
       "      <th>rev</th>\n",
       "      <th>paid</th>\n",
       "    </tr>\n",
       "  </thead>\n",
       "  <tbody>\n",
       "    <tr>\n",
       "      <th>0</th>\n",
       "      <td>581585</td>\n",
       "      <td>A</td>\n",
       "      <td>0.0</td>\n",
       "      <td>0</td>\n",
       "    </tr>\n",
       "    <tr>\n",
       "      <th>1</th>\n",
       "      <td>3276743</td>\n",
       "      <td>B</td>\n",
       "      <td>0.0</td>\n",
       "      <td>0</td>\n",
       "    </tr>\n",
       "    <tr>\n",
       "      <th>2</th>\n",
       "      <td>4238589</td>\n",
       "      <td>A</td>\n",
       "      <td>0.0</td>\n",
       "      <td>0</td>\n",
       "    </tr>\n",
       "    <tr>\n",
       "      <th>3</th>\n",
       "      <td>4475369</td>\n",
       "      <td>B</td>\n",
       "      <td>0.0</td>\n",
       "      <td>0</td>\n",
       "    </tr>\n",
       "    <tr>\n",
       "      <th>4</th>\n",
       "      <td>5481015</td>\n",
       "      <td>B</td>\n",
       "      <td>0.0</td>\n",
       "      <td>0</td>\n",
       "    </tr>\n",
       "  </tbody>\n",
       "</table>\n",
       "</div>"
      ],
      "text/plain": [
       "   student_id grp  rev  paid\n",
       "0      581585   A  0.0     0\n",
       "1     3276743   B  0.0     0\n",
       "2     4238589   A  0.0     0\n",
       "3     4475369   B  0.0     0\n",
       "4     5481015   B  0.0     0"
      ]
     },
     "execution_count": 173,
     "metadata": {},
     "output_type": "execute_result"
    }
   ],
   "source": [
    "active_students_checks.head()"
   ]
  },
  {
   "cell_type": "markdown",
   "id": "7a8183e3-0746-45fa-aaac-7574d968abc2",
   "metadata": {},
   "source": [
    "Посмотрим на распределение оплат каждого пользователя"
   ]
  },
  {
   "cell_type": "code",
   "execution_count": 174,
   "id": "6cc01dfc-d177-4337-a4cf-41960820d5b9",
   "metadata": {},
   "outputs": [
    {
     "data": {
      "text/plain": [
       "<Axes: xlabel='rev', ylabel='Count'>"
      ]
     },
     "execution_count": 174,
     "metadata": {},
     "output_type": "execute_result"
    },
    {
     "data": {
      "image/png": "[encoded data removed]",
      "text/plain": [
       "<Figure size 640x480 with 1 Axes>"
      ]
     },
     "metadata": {},
     "output_type": "display_data"
    }
   ],
   "source": [
    "sns.histplot(data=active_students_checks[active_students_checks['paid'] == 1], x='rev', hue='grp')"
   ]
  },
  {
   "cell_type": "code",
   "execution_count": 175,
   "id": "985bfa29-d485-43a6-bdfc-fa4eda7e03df",
   "metadata": {},
   "outputs": [
    {
     "data": {
      "text/plain": [
       "<Axes: xlabel='grp', ylabel='rev'>"
      ]
     },
     "execution_count": 175,
     "metadata": {},
     "output_type": "execute_result"
    },
    {
     "data": {
      "image/png": "[encoded data removed]",
      "text/plain": [
       "<Figure size 640x480 with 1 Axes>"
      ]
     },
     "metadata": {},
     "output_type": "display_data"
    }
   ],
   "source": [
    "sns.boxplot(data=active_students_checks[active_students_checks['paid'] == 1], x='grp', y='rev')"
   ]
  },
  {
   "cell_type": "markdown",
   "id": "1b2e3b42-ee32-4e92-ba04-b2b45323b0e9",
   "metadata": {},
   "source": [
    "По графикам видем что распределения не являются нормальными, в группе А большинство платежей сосредоточено в районе до 1000 рублей, в группе В в районе 2000, так же из боксплтов видим что в группе А и В присутствуют выбросы"
   ]
  },
  {
   "cell_type": "markdown",
   "id": "3999925f-13cc-43d5-8a54-0c45e4e51a26",
   "metadata": {},
   "source": [
    "Посмотрим на средний чек не делая ничего с выбросами"
   ]
  },
  {
   "cell_type": "code",
   "execution_count": 176,
   "id": "abcb5638-787b-4049-8a96-82bde22b504a",
   "metadata": {},
   "outputs": [
    {
     "data": {
      "text/plain": [
       "grp\n",
       "A     933.59\n",
       "B    1255.83\n",
       "Name: rev, dtype: float64"
      ]
     },
     "execution_count": 176,
     "metadata": {},
     "output_type": "execute_result"
    }
   ],
   "source": [
    "round(active_students_checks[active_students_checks['paid'] == 1].groupby('grp')['rev'].mean(),2)"
   ]
  },
  {
   "cell_type": "markdown",
   "id": "3e19e9ad-c767-42e5-a390-20a21d4c3a52",
   "metadata": {},
   "source": [
    "## ARPPU в группах:\n",
    "\n",
    "    - A - 933.59 р\n",
    "    \n",
    "    - B - 1255.83 р"
   ]
  },
  {
   "cell_type": "markdown",
   "id": "1e397ab0-d0eb-4d3e-9f94-37626e5bce62",
   "metadata": {},
   "source": [
    "Отберем и посмотрим аномальные значения:"
   ]
  },
  {
   "cell_type": "code",
   "execution_count": 177,
   "id": "f8e29d22-c986-49c9-85cf-0ce750f9b7dd",
   "metadata": {},
   "outputs": [
    {
     "name": "stdout",
     "output_type": "stream",
     "text": [
      "Lower bound: -947.125\n",
      "Upper bound: 2351.875\n",
      "Anomalies:\n",
      "      student_id grp     rev  paid\n",
      "390       332387   A  2910.0     1\n",
      "589      1624158   A  3660.0     1\n",
      "1603     2150601   A  3660.0     1\n",
      "1670     4002619   A  2890.0     1\n",
      "2090      347455   A  2820.0     1\n",
      "2203      594228   A  2900.0     1\n",
      "3477     2455897   A  2820.0     1\n",
      "7937      445767   A  3660.0     1\n",
      "8012     1202202   A  2910.0     1\n"
     ]
    }
   ],
   "source": [
    "# Calculate Q1, Q3, and IQR\n",
    "Q1 = group_A[group_A['paid'] ==1 ]['rev'].quantile(0.25)\n",
    "Q3 = group_A[group_A['paid'] ==1 ]['rev'].quantile(0.75)\n",
    "IQR = Q3 - Q1\n",
    "\n",
    "# Calculate bounds\n",
    "lower_bound = Q1 - 1.5 * IQR\n",
    "upper_bound = Q3 + 1.5 * IQR\n",
    "\n",
    "# Identify potential outliers\n",
    "anomalies_A = group_A[(group_A['rev'] < lower_bound) | (group_A['rev'] > upper_bound)]\n",
    "\n",
    "print(f\"Lower bound: {lower_bound}\")\n",
    "print(f\"Upper bound: {upper_bound}\")\n",
    "print(\"Anomalies:\")\n",
    "print(anomalies_A)"
   ]
  },
  {
   "cell_type": "code",
   "execution_count": 178,
   "id": "b091271f-a001-4ff6-b0a4-d0e92b567f47",
   "metadata": {},
   "outputs": [
    {
     "name": "stdout",
     "output_type": "stream",
     "text": [
      "Lower bound: -1627.5\n",
      "Upper bound: 4016.5\n",
      "Anomalies:\n",
      "      student_id grp     rev  paid\n",
      "3983     1711305   B  4650.0     1\n"
     ]
    }
   ],
   "source": [
    "# Calculate Q1, Q3, and IQR\n",
    "Q1 = group_B[group_B['paid'] ==1 ]['rev'].quantile(0.25)\n",
    "Q3 = group_B[group_B['paid'] ==1 ]['rev'].quantile(0.75)\n",
    "IQR = Q3 - Q1\n",
    "\n",
    "# Calculate bounds\n",
    "lower_bound = Q1 - 1.5 * IQR\n",
    "upper_bound = Q3 + 1.5 * IQR\n",
    "\n",
    "# Identify potential outliers\n",
    "anomalies_B = group_B[(group_B['rev'] < lower_bound) | (group_B['rev'] > upper_bound)]\n",
    "\n",
    "print(f\"Lower bound: {lower_bound}\")\n",
    "print(f\"Upper bound: {upper_bound}\")\n",
    "print(\"Anomalies:\")\n",
    "print(anomalies_B)"
   ]
  },
  {
   "cell_type": "markdown",
   "id": "815feb68-09fe-4254-96e7-0e06fe04d0ae",
   "metadata": {},
   "source": [
    "## Количество аномальных значений:\n",
    "    - Группа А - 9\n",
    "    - Группа В - 1\n",
    "Предполагаю что в обе группы попались супер-вип клиенты, но их количество в каждой группе распределено не равномерно. Возможно тестируемая механника положительно повлияла бы на вип-клиентов, если бы они были распределены в группу В. Поэтому считаю корректным не использовать данные student_ID для сравнения результатов."
   ]
  },
  {
   "cell_type": "markdown",
   "id": "77178bb1-a028-4188-942d-685c8359d420",
   "metadata": {},
   "source": [
    "Избавимся от аномальных значений:"
   ]
  },
  {
   "cell_type": "code",
   "execution_count": 179,
   "id": "079e5cd7-342f-4080-859d-3e38cedbcad4",
   "metadata": {},
   "outputs": [],
   "source": [
    "anomalies = pd.concat([anomalies_A, anomalies_B], ignore_index=True)\n",
    "\n",
    "active_students_checks = active_students_checks[~active_students_checks['student_id'].isin(anomalies['student_id'])]"
   ]
  },
  {
   "cell_type": "markdown",
   "id": "1e9ed47f-5d0c-45b9-9366-11571f7ed7f8",
   "metadata": {},
   "source": [
    "Взглянем снова на показатели ARPPU"
   ]
  },
  {
   "cell_type": "code",
   "execution_count": 180,
   "id": "4f0629a8-3c21-4a5b-8efb-2edf030ef346",
   "metadata": {},
   "outputs": [
    {
     "data": {
      "text/plain": [
       "grp\n",
       "A     646.23\n",
       "B    1244.95\n",
       "Name: rev, dtype: float64"
      ]
     },
     "execution_count": 180,
     "metadata": {},
     "output_type": "execute_result"
    }
   ],
   "source": [
    "round(active_students_checks[active_students_checks['paid'] == 1].groupby('grp')['rev'].mean(),2)"
   ]
  },
  {
   "cell_type": "markdown",
   "id": "32558512-fed3-4cb7-8c2d-99e0ee06b0be",
   "metadata": {},
   "source": [
    "## ARPPU в группах без аномальных значений:\n",
    "\n",
    "    - A - 646.23 р\n",
    "    \n",
    "    - B - 1244.95 р"
   ]
  },
  {
   "cell_type": "markdown",
   "id": "db3aeb71-bcaf-4718-a85e-2e0500086777",
   "metadata": {},
   "source": [
    "Теперь применим статистический критерий что бы удостовериться в том, что разница является статистически значимой.\n",
    "\n",
    "Распределения явно отличаются от нормальных, но это не говорит о том что мы не можем использовать Т-Критерий для определения стат. значимой разницы.\n",
    "Т-критерий по прежнему можно использовать если выборочные средние образует нормальное распределение. Так как объем наблюдений достаточно большой и данные не имеют большого количеста аномальных значений выберу один из вариантов Т-критерия\n",
    "\n",
    "**Т-критерий Стьюдента** - если данные Гомоскедастичны (дисперсии распрделений одинаковы)\n",
    "**Т-критерий Уэлча** - если данные Гетерокседастичны (диспресии распределений неодинаковы)\n",
    "\n",
    "Для ороеделения Гомоскедастичности проведем тест **Левена**:\n",
    "\n",
    "- **0-я гипотеза** - дисперсии распрделений одинаковы\n",
    "- **Альтернативная гипотеза** - диспресии распределений неодинаковы"
   ]
  },
  {
   "cell_type": "code",
   "execution_count": 181,
   "id": "136fed0b-5a9c-4fa1-98d7-514ae89500b4",
   "metadata": {},
   "outputs": [
    {
     "data": {
      "text/plain": [
       "B    312\n",
       "A     69\n",
       "Name: grp, dtype: int64"
      ]
     },
     "execution_count": 181,
     "metadata": {},
     "output_type": "execute_result"
    }
   ],
   "source": [
    "active_students_checks[active_students_checks['paid'] == 1].grp.value_counts()"
   ]
  },
  {
   "cell_type": "code",
   "execution_count": 182,
   "id": "8967bed7-2465-45d5-a4af-a5ce1af7938b",
   "metadata": {},
   "outputs": [],
   "source": [
    "group_A = active_students_checks[(active_students_checks['paid'] == 1) & (active_students_checks['grp'] == 'A')]\n",
    "\n",
    "group_B = active_students_checks[(active_students_checks['paid'] == 1) & (active_students_checks['grp'] == 'B')]"
   ]
  },
  {
   "cell_type": "code",
   "execution_count": 183,
   "id": "717681a0-b6fc-47b1-80b8-7e224be587e1",
   "metadata": {},
   "outputs": [
    {
     "data": {
      "text/plain": [
       "LeveneResult(statistic=62.19504994374272, pvalue=3.35511601487199e-14)"
      ]
     },
     "execution_count": 183,
     "metadata": {},
     "output_type": "execute_result"
    }
   ],
   "source": [
    "levene_test = levene(group_A.rev, group_B.rev)\n",
    "\n",
    "levene_test"
   ]
  },
  {
   "cell_type": "markdown",
   "id": "802240b4-aadb-487d-b957-f7f5e7ad50c7",
   "metadata": {
    "tags": []
   },
   "source": [
    "**p-значение** гораздо ниже стандартного порога 0.05, что указывает на значимое различие в дисперсиях между двумя группами (гетероскедастичность), поэтому буду использовать Т-Критерий Уэлча"
   ]
  },
  {
   "cell_type": "markdown",
   "id": "e5ef3df5-9421-49ea-8030-435946c47a88",
   "metadata": {},
   "source": [
    "- 0я гипотеза - разница между ARPPU не стат. значима\n",
    "- Альтернативная гипотеза - разница между ARPPU стат. значима"
   ]
  },
  {
   "cell_type": "code",
   "execution_count": 184,
   "id": "b3d48ad8-7488-41ab-ad4e-f569a7b57d27",
   "metadata": {},
   "outputs": [
    {
     "data": {
      "text/plain": [
       "(-8.472630916952053, 1.3419957176838584e-14)"
      ]
     },
     "execution_count": 184,
     "metadata": {},
     "output_type": "execute_result"
    }
   ],
   "source": [
    "# Т-критерий Уэлча для определения статистической значимости разницы в средних чеках\n",
    "\n",
    "t_statistic, p_value = ttest_ind(group_A.rev, group_B.rev, equal_var=False)\n",
    "\n",
    "t_statistic, p_value"
   ]
  },
  {
   "cell_type": "markdown",
   "id": "f76c30c3-3131-43ce-9189-e26e0079ca1a",
   "metadata": {},
   "source": [
    "## Оценка результата: \n",
    "Очень низкое p-значение говорит о том, что различия в средних чеках между группами A и B статистически значимы. Следовательно, мы можем отвергнуть нулевую гипотезу о том, что различий между средними чеками (среди платящих клиенов)нет."
   ]
  },
  {
   "cell_type": "markdown",
   "id": "2514051c-7d78-4af1-98f6-61e37fe2d79e",
   "metadata": {},
   "source": [
    "## Теперь оценим средний чек (ARPU), для групп и проверим стат значимость различий с помощью метода bootstrap"
   ]
  },
  {
   "cell_type": "markdown",
   "id": "46d9d63c-7964-4418-a3e0-9f38fe73f618",
   "metadata": {},
   "source": [
    "Для начала посчитаем средний чек "
   ]
  },
  {
   "cell_type": "code",
   "execution_count": 185,
   "id": "c3e26f49-a425-422f-8898-aba3f55367f9",
   "metadata": {},
   "outputs": [
    {
     "name": "stdout",
     "output_type": "stream",
     "text": [
      "ARPU в контрольной группе - 29.220183486238533\n",
      "ARPU в эксперементальной группе - 57.188457523557126\n"
     ]
    }
   ],
   "source": [
    "#split groups\n",
    "\n",
    "group_A = active_students_checks[active_students_checks['grp'] == 'A']\n",
    "\n",
    "group_B = active_students_checks[active_students_checks['grp'] == 'B']\n",
    "\n",
    "arpu_A = group_A.rev.sum()/len(group_A)\n",
    "\n",
    "arpu_B = group_B.rev.sum()/len(group_B)\n",
    "\n",
    "print(f'ARPU в контрольной группе - {arpu_A}')\n",
    "print(f'ARPU в эксперементальной группе - {arpu_B}')"
   ]
  },
  {
   "cell_type": "markdown",
   "id": "866257db-d3a2-46be-8e5e-c78de8f54309",
   "metadata": {},
   "source": [
    "Теперь используем метод бутстрэп для того что бы удостовериться что разница величине среднего чека является статистически значимой"
   ]
  },
  {
   "cell_type": "code",
   "execution_count": 186,
   "id": "85454190-4e8d-4534-b710-eaffada893c0",
   "metadata": {},
   "outputs": [
    {
     "data": {
      "text/plain": [
       "(17.019323104799025, 38.971509351095534)"
      ]
     },
     "execution_count": 186,
     "metadata": {},
     "output_type": "execute_result"
    }
   ],
   "source": [
    "# Количество бутстрап-повторений\n",
    "n_iterations = 10000\n",
    "\n",
    "# Создание пустых списков для хранения результатов бутстрапа для каждой группы\n",
    "bootstrap_A = []\n",
    "bootstrap_B = []\n",
    "\n",
    "# Генерация бутстрап-выборок и расчет среднего чека для каждой выборки\n",
    "np.random.seed(0)  # для воспроизводимости результатов\n",
    "for _ in range(n_iterations):\n",
    "    sample_A = group_A.sample(frac = 1, replace=True)\n",
    "    sample_B = group_B.sample(frac = 1, replace=True)\n",
    "    \n",
    "    total_sample_A = np.mean(sample_A['rev'])\n",
    "    total_sample_B = np.mean(sample_B['rev'])\n",
    "    \n",
    "    bootstrap_A.append(total_sample_A)\n",
    "    bootstrap_B.append(total_sample_B)\n",
    "\n",
    "# Расчет 95% доверительного интервала для разности суммы выручки\n",
    "alpha = 0.95\n",
    "lower = ((1.0-alpha)/2.0) * 100\n",
    "upper = (alpha+((1.0-alpha)/2.0)) * 100\n",
    "\n",
    "# Получение границ доверительного интервала\n",
    "bootstrap_diff = np.subtract(bootstrap_B, bootstrap_A)\n",
    "lower_bound = np.percentile(bootstrap_diff, lower)\n",
    "upper_bound = np.percentile(bootstrap_diff, upper)\n",
    "\n",
    "# Результаты: границы доверительного интервала для разности выручек\n",
    "lower_bound, upper_bound"
   ]
  },
  {
   "cell_type": "markdown",
   "id": "6fcef7a4-6c54-4b20-a375-36744edfee6f",
   "metadata": {},
   "source": [
    "## Результаты Bootstrap\n",
    "Результаты исследования показывают 95%-ный доверительный интервал для разницы в среднем чеке между группами A и B. \n",
    "Это означает, что с 95%-ной вероятностью истинное значение разницы в среднем чеке лежит в пределах этого интервала.\n",
    "Нижняя граница интервала больше нуля, это указывает на статистически значимое увеличение среднего чека в группе B по сравнению с группой A. "
   ]
  },
  {
   "cell_type": "markdown",
   "id": "ac082f2e-0632-4f51-917c-1e67adbbcac5",
   "metadata": {},
   "source": [
    "### Таблица с результирующими метриками **(с подчиещенными данными для коректного сравнения результатов АБ теста)** "
   ]
  },
  {
   "cell_type": "code",
   "execution_count": 187,
   "id": "b51b1057-ddcb-446e-a3dd-0c768dcdf721",
   "metadata": {},
   "outputs": [
    {
     "data": {
      "text/html": [
       "<div>\n",
       "<style scoped>\n",
       "    .dataframe tbody tr th:only-of-type {\n",
       "        vertical-align: middle;\n",
       "    }\n",
       "\n",
       "    .dataframe tbody tr th {\n",
       "        vertical-align: top;\n",
       "    }\n",
       "\n",
       "    .dataframe thead th {\n",
       "        text-align: right;\n",
       "    }\n",
       "</style>\n",
       "<table border=\"1\" class=\"dataframe\">\n",
       "  <thead>\n",
       "    <tr style=\"text-align: right;\">\n",
       "      <th></th>\n",
       "      <th>group</th>\n",
       "      <th>student_count</th>\n",
       "      <th>total_rev</th>\n",
       "      <th>arpu</th>\n",
       "      <th>cr</th>\n",
       "      <th>arppu</th>\n",
       "    </tr>\n",
       "  </thead>\n",
       "  <tbody>\n",
       "    <tr>\n",
       "      <th>0</th>\n",
       "      <td>A</td>\n",
       "      <td>1526</td>\n",
       "      <td>44590.0000</td>\n",
       "      <td>29.220183</td>\n",
       "      <td>0.045216</td>\n",
       "      <td>646.231884</td>\n",
       "    </tr>\n",
       "    <tr>\n",
       "      <th>1</th>\n",
       "      <td>B</td>\n",
       "      <td>6792</td>\n",
       "      <td>388424.0035</td>\n",
       "      <td>57.188458</td>\n",
       "      <td>0.045936</td>\n",
       "      <td>1244.948729</td>\n",
       "    </tr>\n",
       "  </tbody>\n",
       "</table>\n",
       "</div>"
      ],
      "text/plain": [
       "  group  student_count    total_rev       arpu        cr        arppu\n",
       "0     A           1526   44590.0000  29.220183  0.045216   646.231884\n",
       "1     B           6792  388424.0035  57.188458  0.045936  1244.948729"
      ]
     },
     "execution_count": 187,
     "metadata": {},
     "output_type": "execute_result"
    }
   ],
   "source": [
    "arppu = active_students_checks[active_students_checks['paid'] == 1].groupby('grp', as_index = False).agg({'rev':'mean'})\n",
    "\n",
    "key_metrics = active_students_checks.groupby('grp', as_index = False).agg({\n",
    "    'student_id':'nunique',\n",
    "    'rev': ['sum', 'mean'],\n",
    "    'paid': [lambda x: x.sum() / x.count()]\n",
    "}).merge(arppu, on = 'grp').drop('grp', axis = 1)\n",
    "\n",
    "\n",
    "key_metrics.columns = ['group','student_count','total_rev', 'arpu', 'cr', 'arppu']\n",
    "\n",
    "key_metrics"
   ]
  },
  {
   "cell_type": "markdown",
   "id": "37f4e710-6672-4018-84cb-298950ccf039",
   "metadata": {},
   "source": [
    "## **Финальные результаты:**\n",
    "- Для оценки результатов внедрения новой механники оплаты был проведен  анализ результатов АБ теста.\n",
    "    \n",
    "### **Выявленные аномалии в момент проведения анализа （требуют уточнения）:** \n",
    "\n",
    "**- 13 студентов без распределения по группам** невозможно учитывать при анализе.\n",
    "   \n",
    "**- Плятящие, но не активные пользователи:** принято решение работать с активными пользователями\n",
    "            \n",
    "**- Аномально высокие значения оплаты** - В числе активных пользователей было найдено 10 пользователей с экстремально высокими оплатами, в 5-6 раз выше среднего в группе: принято решение рассматривать этих пользователей как вип клиентов, но из за неравномерного их распределения по группам принятно решение не использовать их для оценки результатов.\n",
    "\n",
    "\n",
    "### Выбранные метрики:\n",
    " - CR в покупку\n",
    " - ARPU\n",
    " - ARPPU\n",
    "### Результаты\n",
    " - CR не претерпел статистически значимых различий, это говорит о том что новая механника оплаты не отпугнула потенциальных покупателей\n",
    " - APRU изменился с 29 до 57 рублей, что является статистически значимым различием, и говорит что новая механника положительно повлияла на увеличение среднего чека\n",
    " - ARPPU так же изменился с 646 до 1288 рублей, разница в 2 раза так же является статистически значимой. \n",
    "    \n",
    "### Выводы \n",
    "Так как новая механника не оказала значительных изменений на конверсию в покупателя, увеличение ARPPU и APRU положительно, но важно убедиться, что увеличение доходов также перевешивает любые дополнительные затраты, связанные с внедрением новой механики. Если потенциальная прибыль превышает затраты， и мои предположения по поводу аномалий верны - рекомендую новую систему к запуску в продакшн\n",
    "    "
   ]
  },
  {
   "cell_type": "code",
   "execution_count": null,
   "id": "fb58bf85-1a9a-45db-a146-7a8f1c6211f7",
   "metadata": {},
   "outputs": [],
   "source": []
  },
  {
   "cell_type": "markdown",
   "id": "577a0811-628f-48c3-8e88-fa8bdda5f385",
   "metadata": {},
   "source": [
    "Теперь напишем функцию для автоматического добавления изначально не распределенных студентов по группам А и Б"
   ]
  },
  {
   "cell_type": "code",
   "execution_count": 188,
   "id": "0b84b340-de85-4954-a2ce-d8574eca9a02",
   "metadata": {},
   "outputs": [
    {
     "data": {
      "text/html": [
       "<div>\n",
       "<style scoped>\n",
       "    .dataframe tbody tr th:only-of-type {\n",
       "        vertical-align: middle;\n",
       "    }\n",
       "\n",
       "    .dataframe tbody tr th {\n",
       "        vertical-align: top;\n",
       "    }\n",
       "\n",
       "    .dataframe thead th {\n",
       "        text-align: right;\n",
       "    }\n",
       "</style>\n",
       "<table border=\"1\" class=\"dataframe\">\n",
       "  <thead>\n",
       "    <tr style=\"text-align: right;\">\n",
       "      <th></th>\n",
       "      <th>id</th>\n",
       "      <th>grp</th>\n",
       "    </tr>\n",
       "  </thead>\n",
       "  <tbody>\n",
       "    <tr>\n",
       "      <th>0</th>\n",
       "      <td>5694584</td>\n",
       "      <td>B</td>\n",
       "    </tr>\n",
       "    <tr>\n",
       "      <th>1</th>\n",
       "      <td>5694830</td>\n",
       "      <td>B</td>\n",
       "    </tr>\n",
       "    <tr>\n",
       "      <th>2</th>\n",
       "      <td>5695057</td>\n",
       "      <td>B</td>\n",
       "    </tr>\n",
       "    <tr>\n",
       "      <th>3</th>\n",
       "      <td>5698872</td>\n",
       "      <td>B</td>\n",
       "    </tr>\n",
       "    <tr>\n",
       "      <th>4</th>\n",
       "      <td>5699067</td>\n",
       "      <td>B</td>\n",
       "    </tr>\n",
       "  </tbody>\n",
       "</table>\n",
       "</div>"
      ],
      "text/plain": [
       "        id grp\n",
       "0  5694584   B\n",
       "1  5694830   B\n",
       "2  5695057   B\n",
       "3  5698872   B\n",
       "4  5699067   B"
      ]
     },
     "execution_count": 188,
     "metadata": {},
     "output_type": "execute_result"
    }
   ],
   "source": [
    "add = pd.read_csv('group_add.csv')\n",
    "\n",
    "add.head()"
   ]
  },
  {
   "cell_type": "code",
   "execution_count": 189,
   "id": "a57c3314-09a0-462a-81be-3393f14f0b13",
   "metadata": {},
   "outputs": [
    {
     "data": {
      "text/plain": [
       "(92, 2)"
      ]
     },
     "execution_count": 189,
     "metadata": {},
     "output_type": "execute_result"
    }
   ],
   "source": [
    "add.shape"
   ]
  },
  {
   "cell_type": "code",
   "execution_count": 190,
   "id": "6a9592a5-d32b-44d8-91cf-03cfe5c6b39d",
   "metadata": {},
   "outputs": [
    {
     "data": {
      "text/html": [
       "<div>\n",
       "<style scoped>\n",
       "    .dataframe tbody tr th:only-of-type {\n",
       "        vertical-align: middle;\n",
       "    }\n",
       "\n",
       "    .dataframe tbody tr th {\n",
       "        vertical-align: top;\n",
       "    }\n",
       "\n",
       "    .dataframe thead th {\n",
       "        text-align: right;\n",
       "    }\n",
       "</style>\n",
       "<table border=\"1\" class=\"dataframe\">\n",
       "  <thead>\n",
       "    <tr style=\"text-align: right;\">\n",
       "      <th></th>\n",
       "      <th>id</th>\n",
       "      <th>grp</th>\n",
       "    </tr>\n",
       "  </thead>\n",
       "  <tbody>\n",
       "    <tr>\n",
       "      <th>0</th>\n",
       "      <td>1489</td>\n",
       "      <td>B</td>\n",
       "    </tr>\n",
       "    <tr>\n",
       "      <th>1</th>\n",
       "      <td>1627</td>\n",
       "      <td>A</td>\n",
       "    </tr>\n",
       "    <tr>\n",
       "      <th>2</th>\n",
       "      <td>1768</td>\n",
       "      <td>B</td>\n",
       "    </tr>\n",
       "    <tr>\n",
       "      <th>3</th>\n",
       "      <td>1783</td>\n",
       "      <td>B</td>\n",
       "    </tr>\n",
       "    <tr>\n",
       "      <th>4</th>\n",
       "      <td>1794</td>\n",
       "      <td>A</td>\n",
       "    </tr>\n",
       "  </tbody>\n",
       "</table>\n",
       "</div>"
      ],
      "text/plain": [
       "     id grp\n",
       "0  1489   B\n",
       "1  1627   A\n",
       "2  1768   B\n",
       "3  1783   B\n",
       "4  1794   A"
      ]
     },
     "execution_count": 190,
     "metadata": {},
     "output_type": "execute_result"
    }
   ],
   "source": [
    "groups = pd.read_csv('groups.csv', sep = ';')\n",
    "\n",
    "groups.head()"
   ]
  },
  {
   "cell_type": "code",
   "execution_count": 191,
   "id": "f47ded5a-c95d-4cb7-b1c9-b97f6a69636b",
   "metadata": {},
   "outputs": [
    {
     "data": {
      "text/plain": [
       "(74484, 2)"
      ]
     },
     "execution_count": 191,
     "metadata": {},
     "output_type": "execute_result"
    }
   ],
   "source": [
    "groups.shape"
   ]
  },
  {
   "cell_type": "code",
   "execution_count": 192,
   "id": "c7d8b94a-589a-4673-a356-e483fb1edecb",
   "metadata": {},
   "outputs": [
    {
     "data": {
      "text/html": [
       "<div>\n",
       "<style scoped>\n",
       "    .dataframe tbody tr th:only-of-type {\n",
       "        vertical-align: middle;\n",
       "    }\n",
       "\n",
       "    .dataframe tbody tr th {\n",
       "        vertical-align: top;\n",
       "    }\n",
       "\n",
       "    .dataframe thead th {\n",
       "        text-align: right;\n",
       "    }\n",
       "</style>\n",
       "<table border=\"1\" class=\"dataframe\">\n",
       "  <thead>\n",
       "    <tr style=\"text-align: right;\">\n",
       "      <th></th>\n",
       "      <th>student_id</th>\n",
       "    </tr>\n",
       "  </thead>\n",
       "  <tbody>\n",
       "    <tr>\n",
       "      <th>0</th>\n",
       "      <td>581585</td>\n",
       "    </tr>\n",
       "    <tr>\n",
       "      <th>1</th>\n",
       "      <td>5723133</td>\n",
       "    </tr>\n",
       "    <tr>\n",
       "      <th>2</th>\n",
       "      <td>3276743</td>\n",
       "    </tr>\n",
       "    <tr>\n",
       "      <th>3</th>\n",
       "      <td>4238589</td>\n",
       "    </tr>\n",
       "    <tr>\n",
       "      <th>4</th>\n",
       "      <td>4475369</td>\n",
       "    </tr>\n",
       "  </tbody>\n",
       "</table>\n",
       "</div>"
      ],
      "text/plain": [
       "   student_id\n",
       "0      581585\n",
       "1     5723133\n",
       "2     3276743\n",
       "3     4238589\n",
       "4     4475369"
      ]
     },
     "execution_count": 192,
     "metadata": {},
     "output_type": "execute_result"
    }
   ],
   "source": [
    "active = pd.read_csv('active_studs.csv', sep = ';')\n",
    "\n",
    "active.head()"
   ]
  },
  {
   "cell_type": "code",
   "execution_count": 193,
   "id": "49fd2ae5-9d5b-472e-a3f6-72bee93a88af",
   "metadata": {},
   "outputs": [
    {
     "data": {
      "text/html": [
       "<div>\n",
       "<style scoped>\n",
       "    .dataframe tbody tr th:only-of-type {\n",
       "        vertical-align: middle;\n",
       "    }\n",
       "\n",
       "    .dataframe tbody tr th {\n",
       "        vertical-align: top;\n",
       "    }\n",
       "\n",
       "    .dataframe thead th {\n",
       "        text-align: right;\n",
       "    }\n",
       "</style>\n",
       "<table border=\"1\" class=\"dataframe\">\n",
       "  <thead>\n",
       "    <tr style=\"text-align: right;\">\n",
       "      <th></th>\n",
       "      <th>student_id</th>\n",
       "      <th>rev</th>\n",
       "    </tr>\n",
       "  </thead>\n",
       "  <tbody>\n",
       "    <tr>\n",
       "      <th>0</th>\n",
       "      <td>1627</td>\n",
       "      <td>990.0</td>\n",
       "    </tr>\n",
       "    <tr>\n",
       "      <th>1</th>\n",
       "      <td>3185</td>\n",
       "      <td>690.0</td>\n",
       "    </tr>\n",
       "    <tr>\n",
       "      <th>2</th>\n",
       "      <td>25973</td>\n",
       "      <td>690.0</td>\n",
       "    </tr>\n",
       "    <tr>\n",
       "      <th>3</th>\n",
       "      <td>26280</td>\n",
       "      <td>690.0</td>\n",
       "    </tr>\n",
       "    <tr>\n",
       "      <th>4</th>\n",
       "      <td>100300</td>\n",
       "      <td>990.0</td>\n",
       "    </tr>\n",
       "  </tbody>\n",
       "</table>\n",
       "</div>"
      ],
      "text/plain": [
       "   student_id    rev\n",
       "0        1627  990.0\n",
       "1        3185  690.0\n",
       "2       25973  690.0\n",
       "3       26280  690.0\n",
       "4      100300  990.0"
      ]
     },
     "execution_count": 193,
     "metadata": {},
     "output_type": "execute_result"
    }
   ],
   "source": [
    "checks = pd.read_csv('checks.csv', sep = ';')\n",
    "\n",
    "checks.head()"
   ]
  },
  {
   "cell_type": "markdown",
   "id": "9eeda898-8881-4b75-a9b8-38f42a512989",
   "metadata": {},
   "source": [
    "Теперь посмотрим на метрики **без подготовки данных для сравнения результатов АБ теста**"
   ]
  },
  {
   "cell_type": "code",
   "execution_count": 194,
   "id": "09c56f11-8c52-4b58-a5c1-45736547bc45",
   "metadata": {},
   "outputs": [
    {
     "data": {
      "text/html": [
       "<div>\n",
       "<style scoped>\n",
       "    .dataframe tbody tr th:only-of-type {\n",
       "        vertical-align: middle;\n",
       "    }\n",
       "\n",
       "    .dataframe tbody tr th {\n",
       "        vertical-align: top;\n",
       "    }\n",
       "\n",
       "    .dataframe thead th {\n",
       "        text-align: right;\n",
       "    }\n",
       "</style>\n",
       "<table border=\"1\" class=\"dataframe\">\n",
       "  <thead>\n",
       "    <tr style=\"text-align: right;\">\n",
       "      <th></th>\n",
       "      <th>group</th>\n",
       "      <th>student_count</th>\n",
       "      <th>total_rev</th>\n",
       "      <th>arpu</th>\n",
       "      <th>cr</th>\n",
       "      <th>arppu</th>\n",
       "    </tr>\n",
       "  </thead>\n",
       "  <tbody>\n",
       "    <tr>\n",
       "      <th>0</th>\n",
       "      <td>A</td>\n",
       "      <td>1535</td>\n",
       "      <td>72820.0000</td>\n",
       "      <td>47.439739</td>\n",
       "      <td>0.050814</td>\n",
       "      <td>933.589744</td>\n",
       "    </tr>\n",
       "    <tr>\n",
       "      <th>1</th>\n",
       "      <td>B</td>\n",
       "      <td>6793</td>\n",
       "      <td>393074.0035</td>\n",
       "      <td>57.864567</td>\n",
       "      <td>0.046077</td>\n",
       "      <td>1255.827487</td>\n",
       "    </tr>\n",
       "  </tbody>\n",
       "</table>\n",
       "</div>"
      ],
      "text/plain": [
       "  group  student_count    total_rev       arpu        cr        arppu\n",
       "0     A           1535   72820.0000  47.439739  0.050814   933.589744\n",
       "1     B           6793  393074.0035  57.864567  0.046077  1255.827487"
      ]
     },
     "execution_count": 194,
     "metadata": {},
     "output_type": "execute_result"
    }
   ],
   "source": [
    "# active merge groups(inner) merge checks (left)\n",
    "\n",
    "act_sts_checks = active.merge(groups, left_on = 'student_id', right_on = 'id').merge(checks, on = 'student_id', how = 'left').fillna(0)\n",
    "\n",
    "act_sts_checks['paid'] = act_sts_checks['rev'] != 0\n",
    "\n",
    "arppu = act_sts_checks[act_sts_checks['paid'] == 1].groupby('grp', as_index = False).agg({'rev':'mean'})\n",
    "\n",
    "key_metrics = act_sts_checks.groupby('grp', as_index = False).agg({\n",
    "    'student_id':'nunique',\n",
    "    'rev': ['sum', 'mean'],\n",
    "    'paid': [lambda x: x.sum() / x.count()]\n",
    "}).merge(arppu, on = 'grp').drop('grp', axis = 1)\n",
    "\n",
    "\n",
    "key_metrics.columns = ['group','student_count','total_rev', 'arpu', 'cr', 'arppu']\n",
    "\n",
    "key_metrics"
   ]
  },
  {
   "cell_type": "markdown",
   "id": "443c5d50-3c42-4cb1-b52a-7a832bb2b27e",
   "metadata": {},
   "source": [
    "Теперь посчитаем метрики с учетом дополнительных данных о распределении учеников по группам и обернем это в функуию которая принимает 4 файла и выдает таблицу с результами. \n",
    "\n",
    "Так как функция в любом случае будет обрабатывать все изначальные таблицы, а не видоизменять финальную таблицу с метриками, считаю логичным что бы для удобстава она принимала все возможные данные + файл с доболнительной информацией **(опционально)**\n",
    "\n",
    "Таким образом мы сможем  не просто бобавлять информацию к файлу groups но и быстро посчитать метрики если какой то из файлов просто притерпел изменения "
   ]
  },
  {
   "cell_type": "code",
   "execution_count": 195,
   "id": "32682671-53b1-4181-83e0-7ffb6a68db39",
   "metadata": {},
   "outputs": [],
   "source": [
    "def key_metrics(path_to_groups, path_to_active_studs, path_to_checks, path_to_group_add = None):\n",
    "\n",
    "    groups = pd.read_csv(path_to_groups, sep=';')\n",
    "    checks = pd.read_csv(path_to_checks, sep=';')\n",
    "    active = pd.read_csv(path_to_active_studs, sep=';')\n",
    "    \n",
    "    # Проверяем есть ли у нас файл с дополнениями\n",
    "    if path_to_group_add is not None:\n",
    "        add = pd.read_csv(path_to_group_add)\n",
    "        # Если есть - приелеиваем его к groups\n",
    "        groups = pd.concat([groups, add], ignore_index=True)\n",
    "    \n",
    "    act_sts_checks = active.merge(groups, left_on='student_id', right_on='id')\\\n",
    "                           .merge(checks, on='student_id', how='left')\\\n",
    "                           .fillna(0)\n",
    "\n",
    "    act_sts_checks['paid'] = act_sts_checks['rev'] != 0\n",
    "\n",
    "    arppu = act_sts_checks[act_sts_checks['paid'] == 1].groupby('grp', as_index=False).agg({'rev':'mean'})\n",
    "\n",
    "    key_metrics = act_sts_checks.groupby('grp', as_index=False).agg({\n",
    "        'student_id':'nunique',\n",
    "        'rev': ['sum', 'mean'],\n",
    "        'paid': [lambda x: x.sum() / x.count()]\n",
    "    }).merge(arppu, on='grp').drop('grp', axis=1)\n",
    "\n",
    "    key_metrics.columns = ['group', 'student_count', 'total_rev', 'arpu', 'cr', 'arppu']\n",
    "\n",
    "    return key_metrics"
   ]
  },
  {
   "cell_type": "code",
   "execution_count": 196,
   "id": "c315f17c-e7d5-4cea-9127-148fc815ee22",
   "metadata": {},
   "outputs": [
    {
     "data": {
      "text/html": [
       "<div>\n",
       "<style scoped>\n",
       "    .dataframe tbody tr th:only-of-type {\n",
       "        vertical-align: middle;\n",
       "    }\n",
       "\n",
       "    .dataframe tbody tr th {\n",
       "        vertical-align: top;\n",
       "    }\n",
       "\n",
       "    .dataframe thead th {\n",
       "        text-align: right;\n",
       "    }\n",
       "</style>\n",
       "<table border=\"1\" class=\"dataframe\">\n",
       "  <thead>\n",
       "    <tr style=\"text-align: right;\">\n",
       "      <th></th>\n",
       "      <th>group</th>\n",
       "      <th>student_count</th>\n",
       "      <th>total_rev</th>\n",
       "      <th>arpu</th>\n",
       "      <th>cr</th>\n",
       "      <th>arppu</th>\n",
       "    </tr>\n",
       "  </thead>\n",
       "  <tbody>\n",
       "    <tr>\n",
       "      <th>0</th>\n",
       "      <td>A</td>\n",
       "      <td>1538</td>\n",
       "      <td>72820.0000</td>\n",
       "      <td>47.347204</td>\n",
       "      <td>0.050715</td>\n",
       "      <td>933.589744</td>\n",
       "    </tr>\n",
       "    <tr>\n",
       "      <th>1</th>\n",
       "      <td>B</td>\n",
       "      <td>6803</td>\n",
       "      <td>394974.0035</td>\n",
       "      <td>58.058798</td>\n",
       "      <td>0.046156</td>\n",
       "      <td>1257.878992</td>\n",
       "    </tr>\n",
       "  </tbody>\n",
       "</table>\n",
       "</div>"
      ],
      "text/plain": [
       "  group  student_count    total_rev       arpu        cr        arppu\n",
       "0     A           1538   72820.0000  47.347204  0.050715   933.589744\n",
       "1     B           6803  394974.0035  58.058798  0.046156  1257.878992"
      ]
     },
     "execution_count": 196,
     "metadata": {},
     "output_type": "execute_result"
    }
   ],
   "source": [
    "key_metrics('groups.csv','active_studs.csv','checks.csv', 'group_add.csv')"
   ]
  },
  {
   "cell_type": "code",
   "execution_count": 197,
   "id": "4f75a343-6370-4134-a8a8-d6656bff18f6",
   "metadata": {},
   "outputs": [],
   "source": [
    "metrics = key_metrics('groups.csv','active_studs.csv','checks.csv', 'group_add.csv')"
   ]
  },
  {
   "cell_type": "code",
   "execution_count": 198,
   "id": "129bc901-d823-4f67-9fb9-f2663b896b04",
   "metadata": {},
   "outputs": [],
   "source": [
    "def plot_metrics(metrics):\n",
    "    fig, (ax1, ax2, ax3)  = plt.subplots(1, 3, figsize=(20, 7))\n",
    "    \n",
    "    sns.barplot(data=metrics, y='group', x='cr', ax=ax1)\n",
    "    sns.despine()\n",
    "    ax1.set_title('CR в покупку', fontsize=15)\n",
    "    \n",
    "    sns.barplot(data=metrics, y='group', x='arpu', ax=ax2)\n",
    "    sns.despine()\n",
    "    ax2.set_title('ARPU', fontsize=17)\n",
    "    \n",
    "    sns.boxplot(data=act_sts_checks[act_sts_checks['paid'] == 1], x='rev', y='grp',  ax=ax3)\n",
    "    sns.despine()\n",
    "    ax3.set_title('REV cреди оплативших клиентов', fontsize=17)\n",
    "    \n",
    "    plt.show()"
   ]
  },
  {
   "cell_type": "code",
   "execution_count": 199,
   "id": "5f3da0ca-77dc-4894-93aa-7c35a0868409",
   "metadata": {},
   "outputs": [
    {
     "data": {
      "image/png": "[encoded data removed]",
      "text/plain": [
       "<Figure size 2000x700 with 3 Axes>"
      ]
     },
     "metadata": {},
     "output_type": "display_data"
    }
   ],
   "source": [
    "plot_metrics(metrics)"
   ]
  },
  {
   "cell_type": "markdown",
   "id": "b3b33899-6cb9-4c94-8935-375306a0e55f",
   "metadata": {},
   "source": [
    "#### Было реализовано 2 функции \n",
    "\n",
    "- **key_metrics** - подсчет ключевых метрик\n",
    "- **plot_metrics** - визуализация CR и APRU отображены в виде барплотов, 3ий график - боксплот для более наглядного представляения распределения выручки среди оплативших клиентов так же из этого графика можно увидеть среднее значение выручки"
   ]
  },
  {
   "cell_type": "code",
   "execution_count": null,
   "id": "5c9a09c3-b8af-4824-b087-743d153e0f75",
   "metadata": {},
   "outputs": [],
   "source": []
  },
  {
   "cell_type": "code",
   "execution_count": null,
   "id": "ffb167a4-6cca-42e9-aa35-2db0f7f99ef6",
   "metadata": {},
   "outputs": [],
   "source": []
  }
 ],
 "metadata": {
  "kernelspec": {
   "display_name": "Python 3 (ipykernel)",
   "language": "python",
   "name": "python3"
  },
  "language_info": {
   "codemirror_mode": {
    "name": "ipython",
    "version": 3
   },
   "file_extension": ".py",
   "mimetype": "text/x-python",
   "name": "python",
   "nbconvert_exporter": "python",
   "pygments_lexer": "ipython3",
   "version": "3.10.9"
  }
 },
 "nbformat": 4,
 "nbformat_minor": 5
}
